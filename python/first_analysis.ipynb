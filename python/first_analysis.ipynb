{
 "cells": [
  {
   "cell_type": "code",
   "execution_count": 1,
   "metadata": {
    "collapsed": true
   },
   "outputs": [],
   "source": [
    "# pandas\n",
    "import pandas as pd\n",
    "from pandas import Series,DataFrame\n",
    "\n",
    "import math\n",
    "\n",
    "import numpy as np\n",
    "import matplotlib.pyplot as plt\n",
    "import seaborn as sns\n",
    "import matplotlib.mlab as mlab\n",
    "from scipy import stats\n",
    "from scipy.stats import norm\n",
    "%matplotlib inline\n",
    "\n",
    "import missingno as msno"
   ]
  },
  {
   "cell_type": "code",
   "execution_count": 2,
   "metadata": {
    "collapsed": true
   },
   "outputs": [],
   "source": [
    "# Load the data\n",
    "df_train = pd.read_csv('../data/train.csv')"
   ]
  },
  {
   "cell_type": "code",
   "execution_count": 13,
   "metadata": {},
   "outputs": [
    {
     "name": "stdout",
     "output_type": "stream",
     "text": [
      "<class 'pandas.core.frame.DataFrame'>\n",
      "RangeIndex: 595212 entries, 0 to 595211\n",
      "Data columns (total 59 columns):\n",
      "id                595212 non-null int64\n",
      "target            595212 non-null int64\n",
      "ps_ind_01         595212 non-null int64\n",
      "ps_ind_02_cat     594996 non-null float64\n",
      "ps_ind_03         595212 non-null int64\n",
      "ps_ind_04_cat     595129 non-null float64\n",
      "ps_ind_05_cat     589403 non-null float64\n",
      "ps_ind_06_bin     595212 non-null int64\n",
      "ps_ind_07_bin     595212 non-null int64\n",
      "ps_ind_08_bin     595212 non-null int64\n",
      "ps_ind_09_bin     595212 non-null int64\n",
      "ps_ind_10_bin     595212 non-null int64\n",
      "ps_ind_11_bin     595212 non-null int64\n",
      "ps_ind_12_bin     595212 non-null int64\n",
      "ps_ind_13_bin     595212 non-null int64\n",
      "ps_ind_14         595212 non-null int64\n",
      "ps_ind_15         595212 non-null int64\n",
      "ps_ind_16_bin     595212 non-null int64\n",
      "ps_ind_17_bin     595212 non-null int64\n",
      "ps_ind_18_bin     595212 non-null int64\n",
      "ps_reg_01         595212 non-null float64\n",
      "ps_reg_02         595212 non-null float64\n",
      "ps_reg_03         487440 non-null float64\n",
      "ps_car_01_cat     595105 non-null float64\n",
      "ps_car_02_cat     595207 non-null float64\n",
      "ps_car_03_cat     183981 non-null float64\n",
      "ps_car_04_cat     595212 non-null int64\n",
      "ps_car_05_cat     328661 non-null float64\n",
      "ps_car_06_cat     595212 non-null int64\n",
      "ps_car_07_cat     583723 non-null float64\n",
      "ps_car_08_cat     595212 non-null int64\n",
      "ps_car_09_cat     594643 non-null float64\n",
      "ps_car_10_cat     595212 non-null int64\n",
      "ps_car_11_cat     595212 non-null int64\n",
      "ps_car_11         595207 non-null float64\n",
      "ps_car_12         595211 non-null float64\n",
      "ps_car_13         595212 non-null float64\n",
      "ps_car_14         552592 non-null float64\n",
      "ps_car_15         595212 non-null float64\n",
      "ps_calc_01        595212 non-null float64\n",
      "ps_calc_02        595212 non-null float64\n",
      "ps_calc_03        595212 non-null float64\n",
      "ps_calc_04        595212 non-null int64\n",
      "ps_calc_05        595212 non-null int64\n",
      "ps_calc_06        595212 non-null int64\n",
      "ps_calc_07        595212 non-null int64\n",
      "ps_calc_08        595212 non-null int64\n",
      "ps_calc_09        595212 non-null int64\n",
      "ps_calc_10        595212 non-null int64\n",
      "ps_calc_11        595212 non-null int64\n",
      "ps_calc_12        595212 non-null int64\n",
      "ps_calc_13        595212 non-null int64\n",
      "ps_calc_14        595212 non-null int64\n",
      "ps_calc_15_bin    595212 non-null int64\n",
      "ps_calc_16_bin    595212 non-null int64\n",
      "ps_calc_17_bin    595212 non-null int64\n",
      "ps_calc_18_bin    595212 non-null int64\n",
      "ps_calc_19_bin    595212 non-null int64\n",
      "ps_calc_20_bin    595212 non-null int64\n",
      "dtypes: float64(20), int64(39)\n",
      "memory usage: 267.9 MB\n"
     ]
    }
   ],
   "source": [
    "# Replace -1 with NaN, as they are missing values\n",
    "df_nan = df_train.replace(-1, np.NaN)\n",
    "df_nan.info()"
   ]
  },
  {
   "cell_type": "code",
   "execution_count": 39,
   "metadata": {},
   "outputs": [
    {
     "name": "stdout",
     "output_type": "stream",
     "text": [
      "ps_car_03_cat    69.089837\n",
      "ps_car_05_cat    44.782531\n",
      "ps_reg_03        18.106490\n",
      "ps_car_14         7.160474\n",
      "ps_car_07_cat     1.930237\n",
      "ps_ind_05_cat     0.975955\n",
      "ps_car_09_cat     0.095596\n",
      "ps_ind_02_cat     0.036290\n",
      "ps_car_01_cat     0.017977\n",
      "ps_ind_04_cat     0.013945\n",
      "ps_car_02_cat     0.000840\n",
      "ps_car_11         0.000840\n",
      "ps_car_12         0.000168\n",
      "dtype: float64\n"
     ]
    }
   ],
   "source": [
    "nbr_missing = df_nan.isnull().sum().sort_values(ascending=False)\n",
    "# Percent missing values\n",
    "print(nbr_missing[nbr_missing > 0] / df_nan.shape[0] * 100)"
   ]
  },
  {
   "cell_type": "code",
   "execution_count": 31,
   "metadata": {},
   "outputs": [
    {
     "name": "stdout",
     "output_type": "stream",
     "text": [
      "<class 'pandas.core.frame.DataFrame'>\n",
      "Int64Index: 541860 entries, 0 to 595211\n",
      "Data columns (total 56 columns):\n",
      "id                541860 non-null int64\n",
      "target            541860 non-null int64\n",
      "ps_ind_01         541860 non-null int64\n",
      "ps_ind_02_cat     541860 non-null float64\n",
      "ps_ind_03         541860 non-null int64\n",
      "ps_ind_04_cat     541860 non-null float64\n",
      "ps_ind_05_cat     541860 non-null float64\n",
      "ps_ind_06_bin     541860 non-null int64\n",
      "ps_ind_07_bin     541860 non-null int64\n",
      "ps_ind_08_bin     541860 non-null int64\n",
      "ps_ind_09_bin     541860 non-null int64\n",
      "ps_ind_10_bin     541860 non-null int64\n",
      "ps_ind_11_bin     541860 non-null int64\n",
      "ps_ind_12_bin     541860 non-null int64\n",
      "ps_ind_13_bin     541860 non-null int64\n",
      "ps_ind_14         541860 non-null int64\n",
      "ps_ind_15         541860 non-null int64\n",
      "ps_ind_16_bin     541860 non-null int64\n",
      "ps_ind_17_bin     541860 non-null int64\n",
      "ps_ind_18_bin     541860 non-null int64\n",
      "ps_reg_01         541860 non-null float64\n",
      "ps_reg_02         541860 non-null float64\n",
      "ps_car_01_cat     541860 non-null float64\n",
      "ps_car_02_cat     541860 non-null float64\n",
      "ps_car_04_cat     541860 non-null int64\n",
      "ps_car_06_cat     541860 non-null int64\n",
      "ps_car_07_cat     541860 non-null float64\n",
      "ps_car_08_cat     541860 non-null int64\n",
      "ps_car_09_cat     541860 non-null float64\n",
      "ps_car_10_cat     541860 non-null int64\n",
      "ps_car_11_cat     541860 non-null int64\n",
      "ps_car_11         541860 non-null float64\n",
      "ps_car_12         541860 non-null float64\n",
      "ps_car_13         541860 non-null float64\n",
      "ps_car_14         541860 non-null float64\n",
      "ps_car_15         541860 non-null float64\n",
      "ps_calc_01        541860 non-null float64\n",
      "ps_calc_02        541860 non-null float64\n",
      "ps_calc_03        541860 non-null float64\n",
      "ps_calc_04        541860 non-null int64\n",
      "ps_calc_05        541860 non-null int64\n",
      "ps_calc_06        541860 non-null int64\n",
      "ps_calc_07        541860 non-null int64\n",
      "ps_calc_08        541860 non-null int64\n",
      "ps_calc_09        541860 non-null int64\n",
      "ps_calc_10        541860 non-null int64\n",
      "ps_calc_11        541860 non-null int64\n",
      "ps_calc_12        541860 non-null int64\n",
      "ps_calc_13        541860 non-null int64\n",
      "ps_calc_14        541860 non-null int64\n",
      "ps_calc_15_bin    541860 non-null int64\n",
      "ps_calc_16_bin    541860 non-null int64\n",
      "ps_calc_17_bin    541860 non-null int64\n",
      "ps_calc_18_bin    541860 non-null int64\n",
      "ps_calc_19_bin    541860 non-null int64\n",
      "ps_calc_20_bin    541860 non-null int64\n",
      "dtypes: float64(17), int64(39)\n",
      "memory usage: 235.6 MB\n"
     ]
    }
   ],
   "source": [
    "# Chosen to drop all columns that have more than 10 % missing\n",
    "drop_cols = ['ps_car_03_cat', 'ps_car_05_cat', 'ps_reg_03']\n",
    "\n",
    "# Taking easy way out by dropping all the rows with missing values. \n",
    "# Probably not very good as we lose about 50000 (10% data) entries\n",
    "df_dropped = df_nan.drop(drop_cols, axis=1).dropna()\n",
    "df_dropped.info()"
   ]
  },
  {
   "cell_type": "code",
   "execution_count": 90,
   "metadata": {},
   "outputs": [
    {
     "name": "stdout",
     "output_type": "stream",
     "text": [
      "ps_car_06_cat      153\n",
      "target           19150\n",
      "dtype: int64\n",
      "<class 'pandas.core.frame.DataFrame'>\n",
      "Int64Index: 541860 entries, 0 to 595211\n",
      "Data columns (total 56 columns):\n",
      "id                541860 non-null int64\n",
      "target            541860 non-null int64\n",
      "ps_ind_01         541860 non-null int64\n",
      "ps_ind_02_cat     541860 non-null float64\n",
      "ps_ind_03         541860 non-null int64\n",
      "ps_ind_04_cat     541860 non-null float64\n",
      "ps_ind_05_cat     541860 non-null float64\n",
      "ps_ind_06_bin     541860 non-null int64\n",
      "ps_ind_07_bin     541860 non-null int64\n",
      "ps_ind_08_bin     541860 non-null int64\n",
      "ps_ind_09_bin     541860 non-null int64\n",
      "ps_ind_10_bin     541860 non-null int64\n",
      "ps_ind_11_bin     541860 non-null int64\n",
      "ps_ind_12_bin     541860 non-null int64\n",
      "ps_ind_13_bin     541860 non-null int64\n",
      "ps_ind_14         541860 non-null int64\n",
      "ps_ind_15         541860 non-null int64\n",
      "ps_ind_16_bin     541860 non-null int64\n",
      "ps_ind_17_bin     541860 non-null int64\n",
      "ps_ind_18_bin     541860 non-null int64\n",
      "ps_reg_01         541860 non-null float64\n",
      "ps_reg_02         541860 non-null float64\n",
      "ps_car_01_cat     541860 non-null float64\n",
      "ps_car_02_cat     541860 non-null float64\n",
      "ps_car_04_cat     541860 non-null int64\n",
      "ps_car_06_cat     541860 non-null int64\n",
      "ps_car_07_cat     541860 non-null float64\n",
      "ps_car_08_cat     541860 non-null int64\n",
      "ps_car_09_cat     541860 non-null float64\n",
      "ps_car_10_cat     541860 non-null int64\n",
      "ps_car_11_cat     541860 non-null int64\n",
      "ps_car_11         541860 non-null float64\n",
      "ps_car_12         541860 non-null float64\n",
      "ps_car_13         541860 non-null float64\n",
      "ps_car_14         541860 non-null float64\n",
      "ps_car_15         541860 non-null float64\n",
      "ps_calc_01        541860 non-null float64\n",
      "ps_calc_02        541860 non-null float64\n",
      "ps_calc_03        541860 non-null float64\n",
      "ps_calc_04        541860 non-null int64\n",
      "ps_calc_05        541860 non-null int64\n",
      "ps_calc_06        541860 non-null int64\n",
      "ps_calc_07        541860 non-null int64\n",
      "ps_calc_08        541860 non-null int64\n",
      "ps_calc_09        541860 non-null int64\n",
      "ps_calc_10        541860 non-null int64\n",
      "ps_calc_11        541860 non-null int64\n",
      "ps_calc_12        541860 non-null int64\n",
      "ps_calc_13        541860 non-null int64\n",
      "ps_calc_14        541860 non-null int64\n",
      "ps_calc_15_bin    541860 non-null int64\n",
      "ps_calc_16_bin    541860 non-null int64\n",
      "ps_calc_17_bin    541860 non-null int64\n",
      "ps_calc_18_bin    541860 non-null int64\n",
      "ps_calc_19_bin    541860 non-null int64\n",
      "ps_calc_20_bin    541860 non-null int64\n",
      "dtypes: float64(17), int64(39)\n",
      "memory usage: 235.6 MB\n"
     ]
    },
    {
     "data": {
      "text/plain": [
       "<matplotlib.axes._subplots.AxesSubplot at 0x2138234ec88>"
      ]
     },
     "execution_count": 90,
     "metadata": {},
     "output_type": "execute_result"
    },
    {
     "data": {
      "image/png": "[encoded data removed]",
      "text/plain": [
       "<matplotlib.figure.Figure at 0x2138238c0f0>"
      ]
     },
     "metadata": {},
     "output_type": "display_data"
    }
   ],
   "source": [
    "nbr_target_1 = df_dropped[df_dropped['target']== 1]['target'].value_counts()\n",
    "nbr_target_0 = df_dropped[df_dropped['target']== 0]['target'].value_counts()\n",
    "nbr_target_ratio = nbr_target_1 / float(nbr_target_0)\n",
    "\n",
    "bob = df_dropped[['target', 'ps_car_06_cat']].groupby(['ps_car_06_cat'],as_index=False).sum()\n",
    "print(bob.sum())\n",
    "\n",
    "sns.barplot(x='ps_car_06_cat', y='target', data = bob)"
   ]
  },
  {
   "cell_type": "code",
   "execution_count": null,
   "metadata": {
    "collapsed": true
   },
   "outputs": [],
   "source": []
  }
 ],
 "metadata": {
  "kernelspec": {
   "display_name": "Python 3",
   "language": "python",
   "name": "python3"
  },
  "language_info": {
   "codemirror_mode": {
    "name": "ipython",
    "version": 3
   },
   "file_extension": ".py",
   "mimetype": "text/x-python",
   "name": "python",
   "nbconvert_exporter": "python",
   "pygments_lexer": "ipython3",
   "version": "3.6.2"
  }
 },
 "nbformat": 4,
 "nbformat_minor": 2
}
